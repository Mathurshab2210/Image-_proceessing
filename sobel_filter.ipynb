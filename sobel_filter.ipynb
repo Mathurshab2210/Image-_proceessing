{
  "nbformat": 4,
  "nbformat_minor": 0,
  "metadata": {
    "colab": {
      "name": "Untitled1.ipynb",
      "provenance": [],
      "authorship_tag": "ABX9TyPE6Cdhc5iWb47NvdouNWBR",
      "include_colab_link": true
    },
    "kernelspec": {
      "name": "python3",
      "display_name": "Python 3"
    },
    "language_info": {
      "name": "python"
    }
  },
  "cells": [
    {
      "cell_type": "markdown",
      "metadata": {
        "id": "view-in-github",
        "colab_type": "text"
      },
      "source": [
        "<a href=\"https://colab.research.google.com/github/Mathurshab2210/Image-_proceessing/blob/main/sobel_filter.ipynb\" target=\"_parent\"><img src=\"https://colab.research.google.com/assets/colab-badge.svg\" alt=\"Open In Colab\"/></a>"
      ]
    },
    {
      "cell_type": "code",
      "execution_count": null,
      "metadata": {
        "colab": {
          "base_uri": "https://localhost:8080/"
        },
        "id": "WsoGb8f6TM8V",
        "outputId": "2b98e3ac-1737-4d51-9867-a9882b7ea921"
      },
      "outputs": [
        {
          "output_type": "stream",
          "name": "stdout",
          "text": [
            "Looking in indexes: https://pypi.org/simple, https://us-python.pkg.dev/colab-wheels/public/simple/\n",
            "Collecting filters\n",
            "  Downloading filters-1.3.2-py2.py3-none-any.whl (37 kB)\n",
            "Requirement already satisfied: six in /usr/local/lib/python3.7/dist-packages (from filters) (1.15.0)\n",
            "Requirement already satisfied: python-dateutil in /usr/local/lib/python3.7/dist-packages (from filters) (2.8.2)\n",
            "Collecting class-registry\n",
            "  Downloading class_registry-2.1.2-py2.py3-none-any.whl (12 kB)\n",
            "Requirement already satisfied: pytz in /usr/local/lib/python3.7/dist-packages (from filters) (2022.1)\n",
            "Requirement already satisfied: regex in /usr/local/lib/python3.7/dist-packages (from filters) (2022.6.2)\n",
            "Installing collected packages: class-registry, filters\n",
            "Successfully installed class-registry-2.1.2 filters-1.3.2\n"
          ]
        }
      ],
      "source": [
        "!pip install filters"
      ]
    },
    {
      "cell_type": "code",
      "source": [
        "import cv2\n",
        "import numpy as np\n",
        "from matplotlib import pyplot as plt\n",
        "import matplotlib.cm as cm\n",
        "import filters as flt\n"
      ],
      "metadata": {
        "id": "fdCNx3-rTXj9"
      },
      "execution_count": null,
      "outputs": []
    },
    {
      "cell_type": "code",
      "source": [
        "img=cv2.imread(\"/sobel.jpg\",0)"
      ],
      "metadata": {
        "id": "YDw7hy-aT5E9"
      },
      "execution_count": null,
      "outputs": []
    },
    {
      "cell_type": "code",
      "source": [
        "kernelx = np.array(([-1,0,1],[-2,0,2],[-1,0,1]),np.float32)\n",
        "kernely = np.array(([-1,-2,-1],[0,0,0],[1,2,1]),np.float32)"
      ],
      "metadata": {
        "id": "7A80sDMzUIyR"
      },
      "execution_count": null,
      "outputs": []
    },
    {
      "cell_type": "code",
      "source": [
        "img"
      ],
      "metadata": {
        "colab": {
          "base_uri": "https://localhost:8080/"
        },
        "id": "klBZkJ75UJ4p",
        "outputId": "399d1254-7bff-4876-9458-0093246235a5"
      },
      "execution_count": null,
      "outputs": [
        {
          "output_type": "execute_result",
          "data": {
            "text/plain": [
              "array([[ 49,  49,  49, ...,  50,  50,  49],\n",
              "       [ 48,  48,  50, ...,  51,  50,  50],\n",
              "       [ 49,  48,  50, ...,  50,  49,  49],\n",
              "       ...,\n",
              "       [127, 127, 127, ..., 143, 142, 141],\n",
              "       [129, 128, 127, ..., 141, 143, 142],\n",
              "       [127, 126, 125, ..., 140, 140, 140]], dtype=uint8)"
            ]
          },
          "metadata": {},
          "execution_count": 15
        }
      ]
    },
    {
      "cell_type": "code",
      "source": [
        "gx = cv2.Sobel(img,cv2.CV_64F,1,0,ksize=3)\n",
        "gy = cv2.Sobel(img,cv2.CV_64F,0,1,ksize=3)\n",
        "\n"
      ],
      "metadata": {
        "id": "_Ls5DyYOUMuL"
      },
      "execution_count": null,
      "outputs": []
    },
    {
      "cell_type": "code",
      "source": [
        "g = np.sqrt(np.square(gx) + np.square(gy))"
      ],
      "metadata": {
        "id": "r20Ji8beY1h7"
      },
      "execution_count": null,
      "outputs": []
    },
    {
      "cell_type": "code",
      "source": [
        "plt.title('2D Convolution Example')\n",
        "plt.subplot(141),plt.imshow(img,cmap=cm.gray),plt.title('Original')\n",
        "plt.xticks([]), plt.yticks([])\n",
        "plt.subplot(142),plt.imshow(gx,cmap=cm.gray),plt.title('Gx')\n",
        "plt.xticks([]), plt.yticks([])\n",
        "plt.subplot(143),plt.imshow(gy,cmap=cm.gray),plt.title('Gy')\n",
        "plt.xticks([]), plt.yticks([])\n",
        "plt.subplot(144),plt.imshow(g,cmap=cm.gray),plt.title('G')\n",
        "plt.xticks([]), plt.yticks([])\n",
        "plt.show()\n"
      ],
      "metadata": {
        "colab": {
          "base_uri": "https://localhost:8080/",
          "height": 103
        },
        "id": "9Wr1KWu9Y-UG",
        "outputId": "4c837a65-b2c1-4e56-ef8a-cdf5a3002acd"
      },
      "execution_count": null,
      "outputs": [
        {
          "output_type": "display_data",
          "data": {
            "text/plain": [
              "<Figure size 432x288 with 4 Axes>"
            ],
            "image/png": "[encoded data removed]"
          },
          "metadata": {}
        }
      ]
    },
    {
      "cell_type": "code",
      "source": [
        "import filters as flt\n",
        "def sobel_filters(img):\n",
        "  Kx = np.array([[-1, 0, 1], [-2, 0, 2], [-1, 0, 1]])\n",
        "  Ky = np.array([[1, 2, 1], [0, 0, 0], [-1, -2, -1]])\n",
        "\n",
        "  Ix = flt.convolve(img, Kx)\n",
        "  Iy =flt.convolve(img, Ky)\n",
        "\n",
        "  G = np.sqrt(np.square(Ix) + np.square(Iy))\n",
        "  G *= 255.0 / G.max()\n",
        "  \n",
        "\n",
        "  return G"
      ],
      "metadata": {
        "id": "I8x1d2EsZvPR"
      },
      "execution_count": null,
      "outputs": []
    },
    {
      "cell_type": "code",
      "source": [
        "plt.show(sobel_filters(img))"
      ],
      "metadata": {
        "colab": {
          "base_uri": "https://localhost:8080/",
          "height": 287
        },
        "id": "HlS0Ax58ZxzG",
        "outputId": "6e7315a2-e73e-4597-827f-14e8516ad55c"
      },
      "execution_count": null,
      "outputs": [
        {
          "output_type": "error",
          "ename": "AttributeError",
          "evalue": "ignored",
          "traceback": [
            "\u001b[0;31m---------------------------------------------------------------------------\u001b[0m",
            "\u001b[0;31mAttributeError\u001b[0m                            Traceback (most recent call last)",
            "\u001b[0;32m<ipython-input-37-cbd19f41f6c5>\u001b[0m in \u001b[0;36m<module>\u001b[0;34m()\u001b[0m\n\u001b[0;32m----> 1\u001b[0;31m \u001b[0mplt\u001b[0m\u001b[0;34m.\u001b[0m\u001b[0mshow\u001b[0m\u001b[0;34m(\u001b[0m\u001b[0msobel_filters\u001b[0m\u001b[0;34m(\u001b[0m\u001b[0mimg\u001b[0m\u001b[0;34m)\u001b[0m\u001b[0;34m)\u001b[0m\u001b[0;34m\u001b[0m\u001b[0;34m\u001b[0m\u001b[0m\n\u001b[0m",
            "\u001b[0;32m<ipython-input-36-ec7c245fa5ed>\u001b[0m in \u001b[0;36msobel_filters\u001b[0;34m(img)\u001b[0m\n\u001b[1;32m      4\u001b[0m   \u001b[0mKy\u001b[0m \u001b[0;34m=\u001b[0m \u001b[0mnp\u001b[0m\u001b[0;34m.\u001b[0m\u001b[0marray\u001b[0m\u001b[0;34m(\u001b[0m\u001b[0;34m[\u001b[0m\u001b[0;34m[\u001b[0m\u001b[0;36m1\u001b[0m\u001b[0;34m,\u001b[0m \u001b[0;36m2\u001b[0m\u001b[0;34m,\u001b[0m \u001b[0;36m1\u001b[0m\u001b[0;34m]\u001b[0m\u001b[0;34m,\u001b[0m \u001b[0;34m[\u001b[0m\u001b[0;36m0\u001b[0m\u001b[0;34m,\u001b[0m \u001b[0;36m0\u001b[0m\u001b[0;34m,\u001b[0m \u001b[0;36m0\u001b[0m\u001b[0;34m]\u001b[0m\u001b[0;34m,\u001b[0m \u001b[0;34m[\u001b[0m\u001b[0;34m-\u001b[0m\u001b[0;36m1\u001b[0m\u001b[0;34m,\u001b[0m \u001b[0;34m-\u001b[0m\u001b[0;36m2\u001b[0m\u001b[0;34m,\u001b[0m \u001b[0;34m-\u001b[0m\u001b[0;36m1\u001b[0m\u001b[0;34m]\u001b[0m\u001b[0;34m]\u001b[0m\u001b[0;34m)\u001b[0m\u001b[0;34m\u001b[0m\u001b[0;34m\u001b[0m\u001b[0m\n\u001b[1;32m      5\u001b[0m \u001b[0;34m\u001b[0m\u001b[0m\n\u001b[0;32m----> 6\u001b[0;31m   \u001b[0mIx\u001b[0m \u001b[0;34m=\u001b[0m \u001b[0mflt\u001b[0m\u001b[0;34m.\u001b[0m\u001b[0mconvolve\u001b[0m\u001b[0;34m(\u001b[0m\u001b[0mimg\u001b[0m\u001b[0;34m,\u001b[0m \u001b[0mKx\u001b[0m\u001b[0;34m)\u001b[0m\u001b[0;34m\u001b[0m\u001b[0;34m\u001b[0m\u001b[0m\n\u001b[0m\u001b[1;32m      7\u001b[0m   \u001b[0mIy\u001b[0m \u001b[0;34m=\u001b[0m\u001b[0mflt\u001b[0m\u001b[0;34m.\u001b[0m\u001b[0mconvolve\u001b[0m\u001b[0;34m(\u001b[0m\u001b[0mimg\u001b[0m\u001b[0;34m,\u001b[0m \u001b[0mKy\u001b[0m\u001b[0;34m)\u001b[0m\u001b[0;34m\u001b[0m\u001b[0;34m\u001b[0m\u001b[0m\n\u001b[1;32m      8\u001b[0m \u001b[0;34m\u001b[0m\u001b[0m\n",
            "\u001b[0;31mAttributeError\u001b[0m: module 'filters' has no attribute 'convolve'"
          ]
        }
      ]
    }
  ]
}